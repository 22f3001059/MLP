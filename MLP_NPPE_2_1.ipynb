{
  "nbformat": 4,
  "nbformat_minor": 0,
  "metadata": {
    "colab": {
      "provenance": [],
      "include_colab_link": true
    },
    "kernelspec": {
      "name": "python3",
      "display_name": "Python 3"
    },
    "language_info": {
      "name": "python"
    }
  },
  "cells": [
    {
      "cell_type": "markdown",
      "metadata": {
        "id": "view-in-github",
        "colab_type": "text"
      },
      "source": [
        "<a href=\"https://colab.research.google.com/github/22f3001059/MLP/blob/main/MLP_NPPE_2_1.ipynb\" target=\"_parent\"><img src=\"https://colab.research.google.com/assets/colab-badge.svg\" alt=\"Open In Colab\"/></a>"
      ]
    },
    {
      "cell_type": "code",
      "execution_count": 1,
      "metadata": {
        "id": "9H4aS6c9GBU_"
      },
      "outputs": [],
      "source": [
        "import numpy as np\n",
        "import pandas as pd\n",
        "import matplotlib.pyplot as plt\n",
        "import seaborn as sns\n",
        "import warnings\n",
        "warnings.filterwarnings('ignore')"
      ]
    },
    {
      "cell_type": "code",
      "source": [
        "from google.colab import files\n",
        "uploaded = files.upload()\n",
        "\n",
        "df = pd.read_csv('T124OPPE2_Preprocessing_V1.csv')"
      ],
      "metadata": {
        "id": "4XxbXtr3G5vZ",
        "colab": {
          "base_uri": "https://localhost:8080/",
          "height": 73
        },
        "outputId": "990a89b2-ad6a-4f59-87c0-93a1f5e66b33"
      },
      "execution_count": 2,
      "outputs": [
        {
          "output_type": "display_data",
          "data": {
            "text/plain": [
              "<IPython.core.display.HTML object>"
            ],
            "text/html": [
              "\n",
              "     <input type=\"file\" id=\"files-f45e6d69-bb69-47db-bb72-a7ba28c28245\" name=\"files[]\" multiple disabled\n",
              "        style=\"border:none\" />\n",
              "     <output id=\"result-f45e6d69-bb69-47db-bb72-a7ba28c28245\">\n",
              "      Upload widget is only available when the cell has been executed in the\n",
              "      current browser session. Please rerun this cell to enable.\n",
              "      </output>\n",
              "      <script>// Copyright 2017 Google LLC\n",
              "//\n",
              "// Licensed under the Apache License, Version 2.0 (the \"License\");\n",
              "// you may not use this file except in compliance with the License.\n",
              "// You may obtain a copy of the License at\n",
              "//\n",
              "//      http://www.apache.org/licenses/LICENSE-2.0\n",
              "//\n",
              "// Unless required by applicable law or agreed to in writing, software\n",
              "// distributed under the License is distributed on an \"AS IS\" BASIS,\n",
              "// WITHOUT WARRANTIES OR CONDITIONS OF ANY KIND, either express or implied.\n",
              "// See the License for the specific language governing permissions and\n",
              "// limitations under the License.\n",
              "\n",
              "/**\n",
              " * @fileoverview Helpers for google.colab Python module.\n",
              " */\n",
              "(function(scope) {\n",
              "function span(text, styleAttributes = {}) {\n",
              "  const element = document.createElement('span');\n",
              "  element.textContent = text;\n",
              "  for (const key of Object.keys(styleAttributes)) {\n",
              "    element.style[key] = styleAttributes[key];\n",
              "  }\n",
              "  return element;\n",
              "}\n",
              "\n",
              "// Max number of bytes which will be uploaded at a time.\n",
              "const MAX_PAYLOAD_SIZE = 100 * 1024;\n",
              "\n",
              "function _uploadFiles(inputId, outputId) {\n",
              "  const steps = uploadFilesStep(inputId, outputId);\n",
              "  const outputElement = document.getElementById(outputId);\n",
              "  // Cache steps on the outputElement to make it available for the next call\n",
              "  // to uploadFilesContinue from Python.\n",
              "  outputElement.steps = steps;\n",
              "\n",
              "  return _uploadFilesContinue(outputId);\n",
              "}\n",
              "\n",
              "// This is roughly an async generator (not supported in the browser yet),\n",
              "// where there are multiple asynchronous steps and the Python side is going\n",
              "// to poll for completion of each step.\n",
              "// This uses a Promise to block the python side on completion of each step,\n",
              "// then passes the result of the previous step as the input to the next step.\n",
              "function _uploadFilesContinue(outputId) {\n",
              "  const outputElement = document.getElementById(outputId);\n",
              "  const steps = outputElement.steps;\n",
              "\n",
              "  const next = steps.next(outputElement.lastPromiseValue);\n",
              "  return Promise.resolve(next.value.promise).then((value) => {\n",
              "    // Cache the last promise value to make it available to the next\n",
              "    // step of the generator.\n",
              "    outputElement.lastPromiseValue = value;\n",
              "    return next.value.response;\n",
              "  });\n",
              "}\n",
              "\n",
              "/**\n",
              " * Generator function which is called between each async step of the upload\n",
              " * process.\n",
              " * @param {string} inputId Element ID of the input file picker element.\n",
              " * @param {string} outputId Element ID of the output display.\n",
              " * @return {!Iterable<!Object>} Iterable of next steps.\n",
              " */\n",
              "function* uploadFilesStep(inputId, outputId) {\n",
              "  const inputElement = document.getElementById(inputId);\n",
              "  inputElement.disabled = false;\n",
              "\n",
              "  const outputElement = document.getElementById(outputId);\n",
              "  outputElement.innerHTML = '';\n",
              "\n",
              "  const pickedPromise = new Promise((resolve) => {\n",
              "    inputElement.addEventListener('change', (e) => {\n",
              "      resolve(e.target.files);\n",
              "    });\n",
              "  });\n",
              "\n",
              "  const cancel = document.createElement('button');\n",
              "  inputElement.parentElement.appendChild(cancel);\n",
              "  cancel.textContent = 'Cancel upload';\n",
              "  const cancelPromise = new Promise((resolve) => {\n",
              "    cancel.onclick = () => {\n",
              "      resolve(null);\n",
              "    };\n",
              "  });\n",
              "\n",
              "  // Wait for the user to pick the files.\n",
              "  const files = yield {\n",
              "    promise: Promise.race([pickedPromise, cancelPromise]),\n",
              "    response: {\n",
              "      action: 'starting',\n",
              "    }\n",
              "  };\n",
              "\n",
              "  cancel.remove();\n",
              "\n",
              "  // Disable the input element since further picks are not allowed.\n",
              "  inputElement.disabled = true;\n",
              "\n",
              "  if (!files) {\n",
              "    return {\n",
              "      response: {\n",
              "        action: 'complete',\n",
              "      }\n",
              "    };\n",
              "  }\n",
              "\n",
              "  for (const file of files) {\n",
              "    const li = document.createElement('li');\n",
              "    li.append(span(file.name, {fontWeight: 'bold'}));\n",
              "    li.append(span(\n",
              "        `(${file.type || 'n/a'}) - ${file.size} bytes, ` +\n",
              "        `last modified: ${\n",
              "            file.lastModifiedDate ? file.lastModifiedDate.toLocaleDateString() :\n",
              "                                    'n/a'} - `));\n",
              "    const percent = span('0% done');\n",
              "    li.appendChild(percent);\n",
              "\n",
              "    outputElement.appendChild(li);\n",
              "\n",
              "    const fileDataPromise = new Promise((resolve) => {\n",
              "      const reader = new FileReader();\n",
              "      reader.onload = (e) => {\n",
              "        resolve(e.target.result);\n",
              "      };\n",
              "      reader.readAsArrayBuffer(file);\n",
              "    });\n",
              "    // Wait for the data to be ready.\n",
              "    let fileData = yield {\n",
              "      promise: fileDataPromise,\n",
              "      response: {\n",
              "        action: 'continue',\n",
              "      }\n",
              "    };\n",
              "\n",
              "    // Use a chunked sending to avoid message size limits. See b/62115660.\n",
              "    let position = 0;\n",
              "    do {\n",
              "      const length = Math.min(fileData.byteLength - position, MAX_PAYLOAD_SIZE);\n",
              "      const chunk = new Uint8Array(fileData, position, length);\n",
              "      position += length;\n",
              "\n",
              "      const base64 = btoa(String.fromCharCode.apply(null, chunk));\n",
              "      yield {\n",
              "        response: {\n",
              "          action: 'append',\n",
              "          file: file.name,\n",
              "          data: base64,\n",
              "        },\n",
              "      };\n",
              "\n",
              "      let percentDone = fileData.byteLength === 0 ?\n",
              "          100 :\n",
              "          Math.round((position / fileData.byteLength) * 100);\n",
              "      percent.textContent = `${percentDone}% done`;\n",
              "\n",
              "    } while (position < fileData.byteLength);\n",
              "  }\n",
              "\n",
              "  // All done.\n",
              "  yield {\n",
              "    response: {\n",
              "      action: 'complete',\n",
              "    }\n",
              "  };\n",
              "}\n",
              "\n",
              "scope.google = scope.google || {};\n",
              "scope.google.colab = scope.google.colab || {};\n",
              "scope.google.colab._files = {\n",
              "  _uploadFiles,\n",
              "  _uploadFilesContinue,\n",
              "};\n",
              "})(self);\n",
              "</script> "
            ]
          },
          "metadata": {}
        },
        {
          "output_type": "stream",
          "name": "stdout",
          "text": [
            "Saving T124OPPE2_Preprocessing_V1.csv to T124OPPE2_Preprocessing_V1.csv\n"
          ]
        }
      ]
    },
    {
      "cell_type": "markdown",
      "source": [
        "What is the total number of missing or unknown values in the column Gender?"
      ],
      "metadata": {
        "id": "KNjznbApCXL6"
      }
    },
    {
      "cell_type": "code",
      "source": [
        "df.isnull().sum()"
      ],
      "metadata": {
        "colab": {
          "base_uri": "https://localhost:8080/",
          "height": 429
        },
        "id": "wfHT2XjeFkDk",
        "outputId": "4dd44577-f72b-4dd9-fce1-7cd68905be89"
      },
      "execution_count": 3,
      "outputs": [
        {
          "output_type": "execute_result",
          "data": {
            "text/plain": [
              "Gender               0\n",
              "Age                  0\n",
              "HasTension           0\n",
              "AnyHeartDisease      0\n",
              "NeverMarried         0\n",
              "Occupation           0\n",
              "LivesIn              0\n",
              "GlucoseLevel         0\n",
              "BMI                149\n",
              "SmokingStatus        0\n",
              "HeartAttack          0\n",
              "dtype: int64"
            ],
            "text/html": [
              "<div>\n",
              "<style scoped>\n",
              "    .dataframe tbody tr th:only-of-type {\n",
              "        vertical-align: middle;\n",
              "    }\n",
              "\n",
              "    .dataframe tbody tr th {\n",
              "        vertical-align: top;\n",
              "    }\n",
              "\n",
              "    .dataframe thead th {\n",
              "        text-align: right;\n",
              "    }\n",
              "</style>\n",
              "<table border=\"1\" class=\"dataframe\">\n",
              "  <thead>\n",
              "    <tr style=\"text-align: right;\">\n",
              "      <th></th>\n",
              "      <th>0</th>\n",
              "    </tr>\n",
              "  </thead>\n",
              "  <tbody>\n",
              "    <tr>\n",
              "      <th>Gender</th>\n",
              "      <td>0</td>\n",
              "    </tr>\n",
              "    <tr>\n",
              "      <th>Age</th>\n",
              "      <td>0</td>\n",
              "    </tr>\n",
              "    <tr>\n",
              "      <th>HasTension</th>\n",
              "      <td>0</td>\n",
              "    </tr>\n",
              "    <tr>\n",
              "      <th>AnyHeartDisease</th>\n",
              "      <td>0</td>\n",
              "    </tr>\n",
              "    <tr>\n",
              "      <th>NeverMarried</th>\n",
              "      <td>0</td>\n",
              "    </tr>\n",
              "    <tr>\n",
              "      <th>Occupation</th>\n",
              "      <td>0</td>\n",
              "    </tr>\n",
              "    <tr>\n",
              "      <th>LivesIn</th>\n",
              "      <td>0</td>\n",
              "    </tr>\n",
              "    <tr>\n",
              "      <th>GlucoseLevel</th>\n",
              "      <td>0</td>\n",
              "    </tr>\n",
              "    <tr>\n",
              "      <th>BMI</th>\n",
              "      <td>149</td>\n",
              "    </tr>\n",
              "    <tr>\n",
              "      <th>SmokingStatus</th>\n",
              "      <td>0</td>\n",
              "    </tr>\n",
              "    <tr>\n",
              "      <th>HeartAttack</th>\n",
              "      <td>0</td>\n",
              "    </tr>\n",
              "  </tbody>\n",
              "</table>\n",
              "</div><br><label><b>dtype:</b> int64</label>"
            ]
          },
          "metadata": {},
          "execution_count": 3
        }
      ]
    },
    {
      "cell_type": "code",
      "source": [
        "df['Gender'].value_counts()"
      ],
      "metadata": {
        "colab": {
          "base_uri": "https://localhost:8080/",
          "height": 210
        },
        "id": "zjZLaVp_HQfF",
        "outputId": "b002ad04-b397-471d-f9dc-f292bc1f8b66"
      },
      "execution_count": 4,
      "outputs": [
        {
          "output_type": "execute_result",
          "data": {
            "text/plain": [
              "Gender\n",
              "Female     2366\n",
              "Male       1627\n",
              "Unknown       7\n",
              "Name: count, dtype: int64"
            ],
            "text/html": [
              "<div>\n",
              "<style scoped>\n",
              "    .dataframe tbody tr th:only-of-type {\n",
              "        vertical-align: middle;\n",
              "    }\n",
              "\n",
              "    .dataframe tbody tr th {\n",
              "        vertical-align: top;\n",
              "    }\n",
              "\n",
              "    .dataframe thead th {\n",
              "        text-align: right;\n",
              "    }\n",
              "</style>\n",
              "<table border=\"1\" class=\"dataframe\">\n",
              "  <thead>\n",
              "    <tr style=\"text-align: right;\">\n",
              "      <th></th>\n",
              "      <th>count</th>\n",
              "    </tr>\n",
              "    <tr>\n",
              "      <th>Gender</th>\n",
              "      <th></th>\n",
              "    </tr>\n",
              "  </thead>\n",
              "  <tbody>\n",
              "    <tr>\n",
              "      <th>Female</th>\n",
              "      <td>2366</td>\n",
              "    </tr>\n",
              "    <tr>\n",
              "      <th>Male</th>\n",
              "      <td>1627</td>\n",
              "    </tr>\n",
              "    <tr>\n",
              "      <th>Unknown</th>\n",
              "      <td>7</td>\n",
              "    </tr>\n",
              "  </tbody>\n",
              "</table>\n",
              "</div><br><label><b>dtype:</b> int64</label>"
            ]
          },
          "metadata": {},
          "execution_count": 4
        }
      ]
    },
    {
      "cell_type": "code",
      "source": [
        "#nothing was missing lol, meaning koi aur value hogi\n",
        "print(df['Gender'].isin(['Unknown']).sum())"
      ],
      "metadata": {
        "colab": {
          "base_uri": "https://localhost:8080/"
        },
        "id": "7UQHvfCNBA6V",
        "outputId": "23043141-e73c-44cf-c179-70c462d60b5f"
      },
      "execution_count": 5,
      "outputs": [
        {
          "output_type": "stream",
          "name": "stdout",
          "text": [
            "7\n"
          ]
        }
      ]
    },
    {
      "cell_type": "markdown",
      "source": [
        "What is the total number of missing or unknown values in the column Age?"
      ],
      "metadata": {
        "id": "AJVnhJWMCF_p"
      }
    },
    {
      "cell_type": "code",
      "source": [
        "print(df[(df['Age'] <= 0)]['Age'].count())"
      ],
      "metadata": {
        "colab": {
          "base_uri": "https://localhost:8080/"
        },
        "id": "N4mLpSTmCi2u",
        "outputId": "2ba2cec9-6abc-47c8-9030-5f05618d42f3"
      },
      "execution_count": 6,
      "outputs": [
        {
          "output_type": "stream",
          "name": "stdout",
          "text": [
            "8\n"
          ]
        }
      ]
    },
    {
      "cell_type": "markdown",
      "source": [
        "What is the total number of missing or unknown values in the column GlucoseLevel?"
      ],
      "metadata": {
        "id": "A7bwSPb5FPWQ"
      }
    },
    {
      "cell_type": "code",
      "source": [
        "print(df[(df['GlucoseLevel'] <= 0)]['GlucoseLevel'].count())"
      ],
      "metadata": {
        "colab": {
          "base_uri": "https://localhost:8080/"
        },
        "id": "hkHun-VgKwi_",
        "outputId": "ffda70e6-5005-4a33-e228-84d733de1465"
      },
      "execution_count": 7,
      "outputs": [
        {
          "output_type": "stream",
          "name": "stdout",
          "text": [
            "9\n"
          ]
        }
      ]
    },
    {
      "cell_type": "markdown",
      "source": [
        "\n",
        "What is the total number of missing or unknown values in the column LivesIn?"
      ],
      "metadata": {
        "id": "a-HYh5oALST6"
      }
    },
    {
      "cell_type": "code",
      "source": [
        "df['LivesIn'].value_counts()"
      ],
      "metadata": {
        "id": "g7ujf_ngLWFV",
        "colab": {
          "base_uri": "https://localhost:8080/",
          "height": 210
        },
        "outputId": "ae9d745e-1727-480c-ddbb-b027965b9844"
      },
      "execution_count": 9,
      "outputs": [
        {
          "output_type": "execute_result",
          "data": {
            "text/plain": [
              "LivesIn\n",
              "City       2030\n",
              "Village    1965\n",
              "Unknown       5\n",
              "Name: count, dtype: int64"
            ],
            "text/html": [
              "<div>\n",
              "<style scoped>\n",
              "    .dataframe tbody tr th:only-of-type {\n",
              "        vertical-align: middle;\n",
              "    }\n",
              "\n",
              "    .dataframe tbody tr th {\n",
              "        vertical-align: top;\n",
              "    }\n",
              "\n",
              "    .dataframe thead th {\n",
              "        text-align: right;\n",
              "    }\n",
              "</style>\n",
              "<table border=\"1\" class=\"dataframe\">\n",
              "  <thead>\n",
              "    <tr style=\"text-align: right;\">\n",
              "      <th></th>\n",
              "      <th>count</th>\n",
              "    </tr>\n",
              "    <tr>\n",
              "      <th>LivesIn</th>\n",
              "      <th></th>\n",
              "    </tr>\n",
              "  </thead>\n",
              "  <tbody>\n",
              "    <tr>\n",
              "      <th>City</th>\n",
              "      <td>2030</td>\n",
              "    </tr>\n",
              "    <tr>\n",
              "      <th>Village</th>\n",
              "      <td>1965</td>\n",
              "    </tr>\n",
              "    <tr>\n",
              "      <th>Unknown</th>\n",
              "      <td>5</td>\n",
              "    </tr>\n",
              "  </tbody>\n",
              "</table>\n",
              "</div><br><label><b>dtype:</b> int64</label>"
            ]
          },
          "metadata": {},
          "execution_count": 9
        }
      ]
    },
    {
      "cell_type": "markdown",
      "source": [
        "What is the total number of missing or unknown values in the column BMI?"
      ],
      "metadata": {
        "id": "lqKDxWsrMc30"
      }
    },
    {
      "cell_type": "code",
      "source": [
        "print(df['BMI'].isna().sum())"
      ],
      "metadata": {
        "colab": {
          "base_uri": "https://localhost:8080/"
        },
        "id": "7LyiweG4MjFd",
        "outputId": "0692e182-4934-4879-839f-ddf43db491e5"
      },
      "execution_count": 11,
      "outputs": [
        {
          "output_type": "stream",
          "name": "stdout",
          "text": [
            "149\n"
          ]
        }
      ]
    },
    {
      "cell_type": "markdown",
      "source": [
        "What is the total number of missing or unknown values in the column SmokingStatus?"
      ],
      "metadata": {
        "id": "Qd6u7UsAM4jn"
      }
    },
    {
      "cell_type": "code",
      "source": [
        "df['SmokingStatus'].value_counts()"
      ],
      "metadata": {
        "colab": {
          "base_uri": "https://localhost:8080/",
          "height": 241
        },
        "id": "syfpos7QM_KJ",
        "outputId": "b8b6f3b7-fb55-4518-9e3b-05545678a5ac"
      },
      "execution_count": 12,
      "outputs": [
        {
          "output_type": "execute_result",
          "data": {
            "text/plain": [
              "SmokingStatus\n",
              "never smoked       1502\n",
              "Unknown            1204\n",
              "formerly smoked     697\n",
              "smokes              597\n",
              "Name: count, dtype: int64"
            ],
            "text/html": [
              "<div>\n",
              "<style scoped>\n",
              "    .dataframe tbody tr th:only-of-type {\n",
              "        vertical-align: middle;\n",
              "    }\n",
              "\n",
              "    .dataframe tbody tr th {\n",
              "        vertical-align: top;\n",
              "    }\n",
              "\n",
              "    .dataframe thead th {\n",
              "        text-align: right;\n",
              "    }\n",
              "</style>\n",
              "<table border=\"1\" class=\"dataframe\">\n",
              "  <thead>\n",
              "    <tr style=\"text-align: right;\">\n",
              "      <th></th>\n",
              "      <th>count</th>\n",
              "    </tr>\n",
              "    <tr>\n",
              "      <th>SmokingStatus</th>\n",
              "      <th></th>\n",
              "    </tr>\n",
              "  </thead>\n",
              "  <tbody>\n",
              "    <tr>\n",
              "      <th>never smoked</th>\n",
              "      <td>1502</td>\n",
              "    </tr>\n",
              "    <tr>\n",
              "      <th>Unknown</th>\n",
              "      <td>1204</td>\n",
              "    </tr>\n",
              "    <tr>\n",
              "      <th>formerly smoked</th>\n",
              "      <td>697</td>\n",
              "    </tr>\n",
              "    <tr>\n",
              "      <th>smokes</th>\n",
              "      <td>597</td>\n",
              "    </tr>\n",
              "  </tbody>\n",
              "</table>\n",
              "</div><br><label><b>dtype:</b> int64</label>"
            ]
          },
          "metadata": {},
          "execution_count": 12
        }
      ]
    },
    {
      "cell_type": "markdown",
      "source": [
        "What is the mean value of the BMI in the dataset? Ignore the missing values if any"
      ],
      "metadata": {
        "id": "GET31oURNFRw"
      }
    },
    {
      "cell_type": "code",
      "source": [
        "print(df[(df['BMI']>0)]['BMI'].mean())"
      ],
      "metadata": {
        "colab": {
          "base_uri": "https://localhost:8080/"
        },
        "id": "Wvim19zvNMKD",
        "outputId": "9092e179-a868-4f68-88ee-e5b1fa9052f0"
      },
      "execution_count": 14,
      "outputs": [
        {
          "output_type": "stream",
          "name": "stdout",
          "text": [
            "28.857958971695663\n"
          ]
        }
      ]
    },
    {
      "cell_type": "markdown",
      "source": [
        "How many people live in city, smoked at least once in life and had a heartattack? Ignore records/rows with any missing values."
      ],
      "metadata": {
        "id": "d4gjWB_1OZd2"
      }
    },
    {
      "cell_type": "code",
      "source": [
        "df[(df['LivesIn']=='City')&(df['HeartAttack']=='Yes')&((df['SmokingStatus'] == 'smokes')|(df['SmokingStatus'] == 'formerly smoked'))].shape[0]"
      ],
      "metadata": {
        "colab": {
          "base_uri": "https://localhost:8080/"
        },
        "id": "qw0EDUbLOgi6",
        "outputId": "1f9e6410-00a3-418a-a9d0-298eac867e25"
      },
      "execution_count": 22,
      "outputs": [
        {
          "output_type": "execute_result",
          "data": {
            "text/plain": [
              "52"
            ]
          },
          "metadata": {},
          "execution_count": 22
        }
      ]
    },
    {
      "cell_type": "markdown",
      "source": [
        "Which of the following categories have highest frequency? Ignore rows with missing values.\n",
        "\n",
        "* female patients without tension, without any heart disease and never married\n",
        "\n",
        "* female patients without tension, without any heart disease and either currently married or married before\n",
        "\n",
        "* male patients without tension, without any heart disease and never married\n",
        "\n",
        "* male patients with tension, with a heart disease and never married"
      ],
      "metadata": {
        "id": "7FpPkN2zPxb7"
      }
    },
    {
      "cell_type": "code",
      "source": [
        "option1 = df[(df['Gender']=='Female')&(df['HasTension']=='No')&(df['AnyHeartDisease']=='No')&(df['NeverMarried']=='Yes')].shape[0]\n",
        "option2 = df[(df['Gender']=='Female')&(df['HasTension']=='No')&(df['AnyHeartDisease']=='No')&(df['NeverMarried']=='No')].shape[0]\n",
        "option3 = df[(df['Gender']=='Male')&(df['HasTension']=='No')&(df['AnyHeartDisease']=='No')&(df['NeverMarried']=='Yes')].shape[0]\n",
        "option4 = df[(df['Gender']=='Male')&(df['HasTension']=='Yes')&(df['AnyHeartDisease']=='Yes')&(df['NeverMarried']=='Yes')].shape[0]\n",
        "print(f'{option1},{option2},{option3},{option4}')\n",
        "\n"
      ],
      "metadata": {
        "colab": {
          "base_uri": "https://localhost:8080/"
        },
        "id": "cRQ5FDt_aGEf",
        "outputId": "f4e3ceef-3c1c-4f94-a385-df6f2173ba2a"
      },
      "execution_count": 25,
      "outputs": [
        {
          "output_type": "stream",
          "name": "stdout",
          "text": [
            "1335,754,795,24\n"
          ]
        }
      ]
    },
    {
      "cell_type": "code",
      "source": [
        "print(df.select_dtypes(include='object').columns)"
      ],
      "metadata": {
        "colab": {
          "base_uri": "https://localhost:8080/"
        },
        "id": "xCTkOXwqbhsr",
        "outputId": "2c0c0bea-c714-418c-dab6-175f38e5c8ac"
      },
      "execution_count": 27,
      "outputs": [
        {
          "output_type": "stream",
          "name": "stdout",
          "text": [
            "Index(['Gender', 'HasTension', 'AnyHeartDisease', 'NeverMarried', 'Occupation',\n",
            "       'LivesIn', 'SmokingStatus', 'HeartAttack'],\n",
            "      dtype='object')\n"
          ]
        }
      ]
    },
    {
      "cell_type": "code",
      "source": [
        "df['HeartAttack'].value_counts()"
      ],
      "metadata": {
        "colab": {
          "base_uri": "https://localhost:8080/",
          "height": 178
        },
        "id": "_3ZRe0vXcCIs",
        "outputId": "0e778e0d-09bf-41a7-c842-45bc6f5e0e0e"
      },
      "execution_count": 28,
      "outputs": [
        {
          "output_type": "execute_result",
          "data": {
            "text/plain": [
              "HeartAttack\n",
              "No     3806\n",
              "Yes     194\n",
              "Name: count, dtype: int64"
            ],
            "text/html": [
              "<div>\n",
              "<style scoped>\n",
              "    .dataframe tbody tr th:only-of-type {\n",
              "        vertical-align: middle;\n",
              "    }\n",
              "\n",
              "    .dataframe tbody tr th {\n",
              "        vertical-align: top;\n",
              "    }\n",
              "\n",
              "    .dataframe thead th {\n",
              "        text-align: right;\n",
              "    }\n",
              "</style>\n",
              "<table border=\"1\" class=\"dataframe\">\n",
              "  <thead>\n",
              "    <tr style=\"text-align: right;\">\n",
              "      <th></th>\n",
              "      <th>count</th>\n",
              "    </tr>\n",
              "    <tr>\n",
              "      <th>HeartAttack</th>\n",
              "      <th></th>\n",
              "    </tr>\n",
              "  </thead>\n",
              "  <tbody>\n",
              "    <tr>\n",
              "      <th>No</th>\n",
              "      <td>3806</td>\n",
              "    </tr>\n",
              "    <tr>\n",
              "      <th>Yes</th>\n",
              "      <td>194</td>\n",
              "    </tr>\n",
              "  </tbody>\n",
              "</table>\n",
              "</div><br><label><b>dtype:</b> int64</label>"
            ]
          },
          "metadata": {},
          "execution_count": 28
        }
      ]
    },
    {
      "cell_type": "markdown",
      "source": [
        "Divide the data into training and test sets\n",
        "\n",
        "Keep 30% of the data as test set.\n",
        "Use random_state as 0\n",
        "HeartAttack is the target, rest of the columns are the features.\n",
        " For the label/target vector, replace \"Yes\" with 1 and \"No\" with 0.\n",
        " Divide the dataset into training and test sets keeping target(y) in stratified manner.\n",
        "\n",
        "Hint: look for the documentation of the usual function that divides the data into training and test datasets.\n",
        "\n",
        "Prepare a data preprocessing pipeline to process features in following order:\n",
        "\n",
        "Gender: Impute with most frequent then ordinally encode.\n",
        "\n",
        "Age: Impute with mean then standard scale.\n",
        "\n",
        "HasTension: Ordinally encode.\n",
        "\n",
        "AnyHeartDisease:Ordinally encode.\n",
        "\n",
        "NeverMarried:Ordinally encode.\n",
        "\n",
        "Occupation: One hot encode.\n",
        "\n",
        "LivesIn: Impute with most frequent then ordinally encode.\n",
        "\n",
        "GlucoseLevel: Impute with mean, then min-max scaling.\n",
        "\n",
        "BMI: Impute with mean, then standard scale.\n",
        "\n",
        "SmokingStatus: Impute with most frequent, then one hot encode\n",
        "\n",
        "Hint: After transformation, your feature matrix must have columns in following order:\n",
        "\n",
        "\t0. Gender\n",
        "\t1. Age\n",
        "\t2. HasTension\n",
        "\t3. AnyHeartDisease\n",
        "\t4. NeverMarried\n",
        "\t5. Occupation_Govt_job\n",
        "\t6. Occupation_Never_worked\n",
        "\t7. Occupation_Private\n",
        "\t8. Occupation_Self-employed\n",
        "\t9. Occupation_children\n",
        "\t10. LivesIn\n",
        "\t11. GlucoseLevel\n",
        "\t12. BMI\n",
        "\t13. SmokingStatus_formerly smoked\n",
        "\t14. SmokingStatus_never smoked\n",
        "\t15. SmokingStatus_smokes"
      ],
      "metadata": {
        "id": "D3sxkwhwmQB2"
      }
    },
    {
      "cell_type": "code",
      "source": [
        "from re import X\n",
        "from sklearn.model_selection import train_test_split\n",
        "from sklearn.impute import SimpleImputer\n",
        "from sklearn.preprocessing import OrdinalEncoder, OneHotEncoder, StandardScaler, MinMaxScaler\n",
        "from sklearn.compose import ColumnTransformer\n",
        "from sklearn.pipeline import Pipeline\n",
        "\n",
        "X_train, X_test, y_train, y_test = train_test_split(df.drop('HeartAttack', axis=1), df['HeartAttack'], test_size=0.3, random_state=0, stratify=df['HeartAttack'])\n",
        "\n",
        "preprocessor = ColumnTransformer([\n",
        "    ('gender', Pipeline([\n",
        "        ('imputer', SimpleImputer(strategy='most_frequent')),\n",
        "        ('ordinal_encoder', OrdinalEncoder())\n",
        "    ]), ['Gender']),\n",
        "    ('age', Pipeline([\n",
        "        ('imputer', SimpleImputer(strategy='mean')),\n",
        "        ('standard_scaler', StandardScaler())\n",
        "    ]), ['Age']),\n",
        "    ('has_tension', Pipeline([\n",
        "        ('ordinal_encoder', OrdinalEncoder())\n",
        "        ]), ['HasTension']),\n",
        "    ('any_heart_disease', Pipeline([\n",
        "        ('ordinal_encoder', OrdinalEncoder())\n",
        "        ]), ['AnyHeartDisease']),\n",
        "    ('never_married', Pipeline([\n",
        "        ('ordinal_encoder', OrdinalEncoder())\n",
        "        ]), ['NeverMarried']),\n",
        "    ('occupation', Pipeline([\n",
        "        ('one_hot_encoder', OneHotEncoder())\n",
        "        ]), ['Occupation']),\n",
        "    ('lives_in', Pipeline([\n",
        "        ('imputer', SimpleImputer(strategy='most_frequent')),\n",
        "        ('ordinal_encoder', OrdinalEncoder())\n",
        "    ]), ['LivesIn']),\n",
        "    ('glucose_level', Pipeline([\n",
        "        ('imputer', SimpleImputer(strategy='mean')),\n",
        "        ('min_max_scaler', MinMaxScaler())\n",
        "    ]), ['GlucoseLevel']),\n",
        "    ('bmi', Pipeline([\n",
        "        ('imputer', SimpleImputer(strategy='mean')),\n",
        "        ('standard_scaler', StandardScaler())\n",
        "    ]), ['BMI']),\n",
        "    ('smoking_status', Pipeline([\n",
        "        ('imputer', SimpleImputer(strategy='most_frequent')),\n",
        "        ('one_hot_encoder', OneHotEncoder())\n",
        "    ]), ['SmokingStatus'])\n",
        "])\n",
        "\n",
        "X_train = preprocessor.fit_transform(X_train)\n",
        "X_test = preprocessor.transform(X_test)\n",
        "\n"
      ],
      "metadata": {
        "id": "uqKRsZZHmzhZ"
      },
      "execution_count": 29,
      "outputs": []
    },
    {
      "cell_type": "code",
      "source": [
        "X_train.shape"
      ],
      "metadata": {
        "colab": {
          "base_uri": "https://localhost:8080/"
        },
        "id": "cL0ZcOrdrIR3",
        "outputId": "a53fcacd-0bf5-4f4a-96c7-855773fd1077"
      },
      "execution_count": 30,
      "outputs": [
        {
          "output_type": "execute_result",
          "data": {
            "text/plain": [
              "(2800, 17)"
            ]
          },
          "metadata": {},
          "execution_count": 30
        }
      ]
    }
  ]
}